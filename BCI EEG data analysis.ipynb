{
 "cells": [
  {
   "cell_type": "code",
   "execution_count": 39,
   "id": "8b164a8d",
   "metadata": {},
   "outputs": [],
   "source": [
    "import pandas as pd\n",
    "import numpy as np\n",
    "import matplotlib.pyplot as plt\n",
    "import os\n",
    "import re\n",
    "\n",
    "dir_path = r'train'\n",
    "data_pattern = r'^.*_data\\.csv$'\n",
    "result_data = [f for f in os.listdir(dir_path) if re.match(data_pattern, f)]\n",
    "events_pattern = r'^.*_events\\.csv$'\n",
    "result_events = [f for f in os.listdir(dir_path) if re.match(events_pattern, f)]\n"
   ]
  },
  {
   "cell_type": "code",
   "execution_count": 54,
   "id": "ff2e1149",
   "metadata": {},
   "outputs": [],
   "source": [
    "from sklearn.decomposition import PCA\n",
    "\n",
    "X_pca_list = []\n",
    "pca = PCA(n_components=20)  \n",
    "dir_path = r'train'\n",
    "for file in result_data:\n",
    "    df = pd.read_csv(os.path.join(dir_path, file))\n",
    "    df['id'] = df['id'].replace(r'subj\\d+_series\\d+_(\\d+)', r'\\1', regex=True).astype(int)\n",
    "    X = df.values\n",
    "    X_pca = pca.fit_transform(X)\n",
    "    X_pca_list.append(X_pca)"
   ]
  },
  {
   "cell_type": "code",
   "execution_count": 56,
   "id": "5ba333a7",
   "metadata": {},
   "outputs": [
    {
     "name": "stdout",
     "output_type": "stream",
     "text": [
      "(262387, 20)\n",
      "(216873, 20)\n",
      "(142976, 20)\n",
      "(211225, 20)\n",
      "(136568, 20)\n",
      "(257334, 20)\n",
      "(132819, 20)\n",
      "(126733, 20)\n",
      "(223400, 20)\n",
      "(147697, 20)\n",
      "(266245, 20)\n",
      "(141452, 20)\n",
      "(250788, 20)\n",
      "(215983, 20)\n",
      "(141183, 20)\n",
      "(134289, 20)\n",
      "(151123, 20)\n",
      "(270047, 20)\n",
      "(230872, 20)\n",
      "(156229, 20)\n",
      "(230568, 20)\n",
      "(266571, 20)\n",
      "(147835, 20)\n",
      "(154678, 20)\n",
      "(119496, 20)\n",
      "(271954, 20)\n",
      "(217614, 20)\n",
      "(116240, 20)\n",
      "(210644, 20)\n",
      "(249550, 20)\n",
      "(119561, 20)\n",
      "(117333, 20)\n",
      "(291874, 20)\n",
      "(330082, 20)\n",
      "(152745, 20)\n",
      "(278114, 20)\n",
      "(151647, 20)\n",
      "(206222, 20)\n",
      "(150865, 20)\n",
      "(149945, 20)\n",
      "(122262, 20)\n",
      "(192860, 20)\n",
      "(229357, 20)\n",
      "(196416, 20)\n",
      "(248572, 20)\n",
      "(116333, 20)\n",
      "(115079, 20)\n",
      "(114946, 20)\n",
      "(246612, 20)\n",
      "(208724, 20)\n",
      "(131495, 20)\n",
      "(205592, 20)\n",
      "(123027, 20)\n",
      "(243659, 20)\n",
      "(121495, 20)\n",
      "(121920, 20)\n",
      "(227967, 20)\n",
      "(138058, 20)\n",
      "(259176, 20)\n",
      "(136440, 20)\n",
      "(265586, 20)\n",
      "(226735, 20)\n",
      "(135260, 20)\n",
      "(129504, 20)\n",
      "(149580, 20)\n",
      "(267738, 20)\n",
      "(221892, 20)\n",
      "(137731, 20)\n",
      "(215765, 20)\n",
      "(257483, 20)\n",
      "(133391, 20)\n",
      "(135837, 20)\n",
      "(307632, 20)\n",
      "(212898, 20)\n",
      "(223684, 20)\n",
      "(263711, 20)\n",
      "(212546, 20)\n",
      "(147148, 20)\n",
      "(144897, 20)\n",
      "(140424, 20)\n",
      "(200430, 20)\n",
      "(239180, 20)\n",
      "(123701, 20)\n",
      "(242562, 20)\n",
      "(118716, 20)\n",
      "(191769, 20)\n",
      "(118614, 20)\n",
      "(124095, 20)\n",
      "(141426, 20)\n",
      "(209212, 20)\n",
      "(252772, 20)\n",
      "(208470, 20)\n",
      "(248301, 20)\n",
      "(131609, 20)\n",
      "(128210, 20)\n",
      "(127494, 20)\n"
     ]
    }
   ],
   "source": [
    "for x_pca in X_pca_list:\n",
    "    print(x_pca.shape)"
   ]
  },
  {
   "cell_type": "code",
   "execution_count": 61,
   "id": "1d3cfd38",
   "metadata": {},
   "outputs": [
    {
     "name": "stderr",
     "output_type": "stream",
     "text": [
      "C:\\Users\\xuan\\anaconda3\\lib\\site-packages\\sklearn\\decomposition\\_fastica.py:120: ConvergenceWarning: FastICA did not converge. Consider increasing tolerance or the maximum number of iterations.\n",
      "  warnings.warn(\n"
     ]
    },
    {
     "name": "stdout",
     "output_type": "stream",
     "text": [
      "0 1 2 "
     ]
    },
    {
     "name": "stderr",
     "output_type": "stream",
     "text": [
      "C:\\Users\\xuan\\anaconda3\\lib\\site-packages\\sklearn\\decomposition\\_fastica.py:120: ConvergenceWarning: FastICA did not converge. Consider increasing tolerance or the maximum number of iterations.\n",
      "  warnings.warn(\n"
     ]
    },
    {
     "name": "stdout",
     "output_type": "stream",
     "text": [
      "3 "
     ]
    },
    {
     "name": "stderr",
     "output_type": "stream",
     "text": [
      "C:\\Users\\xuan\\anaconda3\\lib\\site-packages\\sklearn\\decomposition\\_fastica.py:120: ConvergenceWarning: FastICA did not converge. Consider increasing tolerance or the maximum number of iterations.\n",
      "  warnings.warn(\n"
     ]
    },
    {
     "name": "stdout",
     "output_type": "stream",
     "text": [
      "4 "
     ]
    },
    {
     "name": "stderr",
     "output_type": "stream",
     "text": [
      "C:\\Users\\xuan\\anaconda3\\lib\\site-packages\\sklearn\\decomposition\\_fastica.py:120: ConvergenceWarning: FastICA did not converge. Consider increasing tolerance or the maximum number of iterations.\n",
      "  warnings.warn(\n"
     ]
    },
    {
     "name": "stdout",
     "output_type": "stream",
     "text": [
      "5 6 7 8 9 10 11 "
     ]
    },
    {
     "name": "stderr",
     "output_type": "stream",
     "text": [
      "C:\\Users\\xuan\\anaconda3\\lib\\site-packages\\sklearn\\decomposition\\_fastica.py:120: ConvergenceWarning: FastICA did not converge. Consider increasing tolerance or the maximum number of iterations.\n",
      "  warnings.warn(\n"
     ]
    },
    {
     "name": "stdout",
     "output_type": "stream",
     "text": [
      "12 13 "
     ]
    },
    {
     "name": "stderr",
     "output_type": "stream",
     "text": [
      "C:\\Users\\xuan\\anaconda3\\lib\\site-packages\\sklearn\\decomposition\\_fastica.py:120: ConvergenceWarning: FastICA did not converge. Consider increasing tolerance or the maximum number of iterations.\n",
      "  warnings.warn(\n"
     ]
    },
    {
     "name": "stdout",
     "output_type": "stream",
     "text": [
      "14 15 16 17 18 19 "
     ]
    },
    {
     "name": "stderr",
     "output_type": "stream",
     "text": [
      "C:\\Users\\xuan\\anaconda3\\lib\\site-packages\\sklearn\\decomposition\\_fastica.py:120: ConvergenceWarning: FastICA did not converge. Consider increasing tolerance or the maximum number of iterations.\n",
      "  warnings.warn(\n"
     ]
    },
    {
     "name": "stdout",
     "output_type": "stream",
     "text": [
      "20 21 22 23 24 25 26 27 28 "
     ]
    },
    {
     "name": "stderr",
     "output_type": "stream",
     "text": [
      "C:\\Users\\xuan\\anaconda3\\lib\\site-packages\\sklearn\\decomposition\\_fastica.py:120: ConvergenceWarning: FastICA did not converge. Consider increasing tolerance or the maximum number of iterations.\n",
      "  warnings.warn(\n"
     ]
    },
    {
     "name": "stdout",
     "output_type": "stream",
     "text": [
      "29 30 31 32 33 34 35 36 37 38 39 40 41 "
     ]
    },
    {
     "name": "stderr",
     "output_type": "stream",
     "text": [
      "C:\\Users\\xuan\\anaconda3\\lib\\site-packages\\sklearn\\decomposition\\_fastica.py:120: ConvergenceWarning: FastICA did not converge. Consider increasing tolerance or the maximum number of iterations.\n",
      "  warnings.warn(\n"
     ]
    },
    {
     "name": "stdout",
     "output_type": "stream",
     "text": [
      "42 43 "
     ]
    },
    {
     "name": "stderr",
     "output_type": "stream",
     "text": [
      "C:\\Users\\xuan\\anaconda3\\lib\\site-packages\\sklearn\\decomposition\\_fastica.py:120: ConvergenceWarning: FastICA did not converge. Consider increasing tolerance or the maximum number of iterations.\n",
      "  warnings.warn(\n"
     ]
    },
    {
     "name": "stdout",
     "output_type": "stream",
     "text": [
      "44 45 46 47 48 49 50 51 52 53 54 55 56 57 58 59 60 "
     ]
    },
    {
     "name": "stderr",
     "output_type": "stream",
     "text": [
      "C:\\Users\\xuan\\anaconda3\\lib\\site-packages\\sklearn\\decomposition\\_fastica.py:120: ConvergenceWarning: FastICA did not converge. Consider increasing tolerance or the maximum number of iterations.\n",
      "  warnings.warn(\n"
     ]
    },
    {
     "name": "stdout",
     "output_type": "stream",
     "text": [
      "61 62 63 64 "
     ]
    },
    {
     "name": "stderr",
     "output_type": "stream",
     "text": [
      "C:\\Users\\xuan\\anaconda3\\lib\\site-packages\\sklearn\\decomposition\\_fastica.py:120: ConvergenceWarning: FastICA did not converge. Consider increasing tolerance or the maximum number of iterations.\n",
      "  warnings.warn(\n"
     ]
    },
    {
     "name": "stdout",
     "output_type": "stream",
     "text": [
      "65 66 67 "
     ]
    },
    {
     "name": "stderr",
     "output_type": "stream",
     "text": [
      "C:\\Users\\xuan\\anaconda3\\lib\\site-packages\\sklearn\\decomposition\\_fastica.py:120: ConvergenceWarning: FastICA did not converge. Consider increasing tolerance or the maximum number of iterations.\n",
      "  warnings.warn(\n"
     ]
    },
    {
     "name": "stdout",
     "output_type": "stream",
     "text": [
      "68 "
     ]
    },
    {
     "name": "stderr",
     "output_type": "stream",
     "text": [
      "C:\\Users\\xuan\\anaconda3\\lib\\site-packages\\sklearn\\decomposition\\_fastica.py:120: ConvergenceWarning: FastICA did not converge. Consider increasing tolerance or the maximum number of iterations.\n",
      "  warnings.warn(\n"
     ]
    },
    {
     "name": "stdout",
     "output_type": "stream",
     "text": [
      "69 "
     ]
    },
    {
     "name": "stderr",
     "output_type": "stream",
     "text": [
      "C:\\Users\\xuan\\anaconda3\\lib\\site-packages\\sklearn\\decomposition\\_fastica.py:120: ConvergenceWarning: FastICA did not converge. Consider increasing tolerance or the maximum number of iterations.\n",
      "  warnings.warn(\n"
     ]
    },
    {
     "name": "stdout",
     "output_type": "stream",
     "text": [
      "70 71 72 "
     ]
    },
    {
     "name": "stderr",
     "output_type": "stream",
     "text": [
      "C:\\Users\\xuan\\anaconda3\\lib\\site-packages\\sklearn\\decomposition\\_fastica.py:120: ConvergenceWarning: FastICA did not converge. Consider increasing tolerance or the maximum number of iterations.\n",
      "  warnings.warn(\n"
     ]
    },
    {
     "name": "stdout",
     "output_type": "stream",
     "text": [
      "73 74 75 76 77 "
     ]
    },
    {
     "name": "stderr",
     "output_type": "stream",
     "text": [
      "C:\\Users\\xuan\\anaconda3\\lib\\site-packages\\sklearn\\decomposition\\_fastica.py:120: ConvergenceWarning: FastICA did not converge. Consider increasing tolerance or the maximum number of iterations.\n",
      "  warnings.warn(\n"
     ]
    },
    {
     "name": "stdout",
     "output_type": "stream",
     "text": [
      "78 "
     ]
    },
    {
     "name": "stderr",
     "output_type": "stream",
     "text": [
      "C:\\Users\\xuan\\anaconda3\\lib\\site-packages\\sklearn\\decomposition\\_fastica.py:120: ConvergenceWarning: FastICA did not converge. Consider increasing tolerance or the maximum number of iterations.\n",
      "  warnings.warn(\n"
     ]
    },
    {
     "name": "stdout",
     "output_type": "stream",
     "text": [
      "79 80 "
     ]
    },
    {
     "name": "stderr",
     "output_type": "stream",
     "text": [
      "C:\\Users\\xuan\\anaconda3\\lib\\site-packages\\sklearn\\decomposition\\_fastica.py:120: ConvergenceWarning: FastICA did not converge. Consider increasing tolerance or the maximum number of iterations.\n",
      "  warnings.warn(\n"
     ]
    },
    {
     "name": "stdout",
     "output_type": "stream",
     "text": [
      "81 "
     ]
    },
    {
     "name": "stderr",
     "output_type": "stream",
     "text": [
      "C:\\Users\\xuan\\anaconda3\\lib\\site-packages\\sklearn\\decomposition\\_fastica.py:120: ConvergenceWarning: FastICA did not converge. Consider increasing tolerance or the maximum number of iterations.\n",
      "  warnings.warn(\n"
     ]
    },
    {
     "name": "stdout",
     "output_type": "stream",
     "text": [
      "82 "
     ]
    },
    {
     "name": "stderr",
     "output_type": "stream",
     "text": [
      "C:\\Users\\xuan\\anaconda3\\lib\\site-packages\\sklearn\\decomposition\\_fastica.py:120: ConvergenceWarning: FastICA did not converge. Consider increasing tolerance or the maximum number of iterations.\n",
      "  warnings.warn(\n"
     ]
    },
    {
     "name": "stdout",
     "output_type": "stream",
     "text": [
      "83 84 "
     ]
    },
    {
     "name": "stderr",
     "output_type": "stream",
     "text": [
      "C:\\Users\\xuan\\anaconda3\\lib\\site-packages\\sklearn\\decomposition\\_fastica.py:120: ConvergenceWarning: FastICA did not converge. Consider increasing tolerance or the maximum number of iterations.\n",
      "  warnings.warn(\n"
     ]
    },
    {
     "name": "stdout",
     "output_type": "stream",
     "text": [
      "85 "
     ]
    },
    {
     "name": "stderr",
     "output_type": "stream",
     "text": [
      "C:\\Users\\xuan\\anaconda3\\lib\\site-packages\\sklearn\\decomposition\\_fastica.py:120: ConvergenceWarning: FastICA did not converge. Consider increasing tolerance or the maximum number of iterations.\n",
      "  warnings.warn(\n"
     ]
    },
    {
     "name": "stdout",
     "output_type": "stream",
     "text": [
      "86 87 88 "
     ]
    },
    {
     "name": "stderr",
     "output_type": "stream",
     "text": [
      "C:\\Users\\xuan\\anaconda3\\lib\\site-packages\\sklearn\\decomposition\\_fastica.py:120: ConvergenceWarning: FastICA did not converge. Consider increasing tolerance or the maximum number of iterations.\n",
      "  warnings.warn(\n"
     ]
    },
    {
     "name": "stdout",
     "output_type": "stream",
     "text": [
      "89 90 "
     ]
    },
    {
     "name": "stderr",
     "output_type": "stream",
     "text": [
      "C:\\Users\\xuan\\anaconda3\\lib\\site-packages\\sklearn\\decomposition\\_fastica.py:120: ConvergenceWarning: FastICA did not converge. Consider increasing tolerance or the maximum number of iterations.\n",
      "  warnings.warn(\n"
     ]
    },
    {
     "name": "stdout",
     "output_type": "stream",
     "text": [
      "91 92 93 94 95 "
     ]
    }
   ],
   "source": [
    "from sklearn.decomposition import FastICA\n",
    "\n",
    "ica = FastICA(n_components=20, random_state=42, whiten='unit-variance', tol=0.001, max_iter=100)\n",
    "\n",
    "X_pca_ica_list = []\n",
    "times = 0\n",
    "for x_pca in X_pca_list:\n",
    "    X_ica = ica.fit_transform(x_pca)\n",
    "    X_pca_ica_list.append(X_ica)\n",
    "    print(times, end=' ')\n",
    "    times += 1"
   ]
  },
  {
   "cell_type": "code",
   "execution_count": 68,
   "id": "79646f70",
   "metadata": {},
   "outputs": [
    {
     "name": "stdout",
     "output_type": "stream",
     "text": [
      "[[ 1.31194881e+05 -1.83285200e+01 -1.07925215e+02 ... -2.57429482e+01\n",
      "   2.28034966e+02 -3.99950626e+00]\n",
      " [ 1.31193915e+05 -2.21600809e+01 -1.07564372e+02 ... -3.61493284e+00\n",
      "   2.18636715e+02  6.17007741e+00]\n",
      " [ 1.31193144e+05  1.41146075e+01 -1.56454257e+02 ... -1.68534624e+01\n",
      "   2.13713469e+02 -5.65668790e+01]\n",
      " ...\n",
      " [-1.31191071e+05  1.56756415e+02  1.00398234e+01 ... -3.66427772e+01\n",
      "   7.96218014e+01  1.04129356e+02]\n",
      " [-1.31192375e+05  4.17888252e+01  2.67262528e+01 ... -5.46258582e+01\n",
      "   8.73527731e+01  6.86576192e+01]\n",
      " [-1.31192997e+05  9.79245508e+01 -8.56445759e+01 ... -5.25985369e+01\n",
      "   8.26069929e+01  7.74475242e+01]]\n"
     ]
    }
   ],
   "source": [
    "print(X_pca_list[0])"
   ]
  },
  {
   "cell_type": "code",
   "execution_count": 67,
   "id": "cd87d907",
   "metadata": {},
   "outputs": [
    {
     "name": "stdout",
     "output_type": "stream",
     "text": [
      "[[-0.02204322 -1.36087091  1.36840665 ...  0.98318048  1.1043742\n",
      "  -1.65293216]\n",
      " [-0.20959252 -1.00562177  1.22397442 ...  0.95368233  1.34487883\n",
      "  -1.5994292 ]\n",
      " [-0.59574938 -0.9930689   1.12978232 ...  0.82742697  1.07006011\n",
      "  -1.44229027]\n",
      " ...\n",
      " [-1.60645527  0.66386554  0.32357528 ... -1.32219528  1.6359521\n",
      "  -0.50171635]\n",
      " [-1.69661437  0.49698285  0.30088638 ... -1.17400396  1.2711434\n",
      "  -0.60534178]\n",
      " [-1.84565878  0.51695597  0.1307104  ... -1.42422402  1.44778953\n",
      "  -0.4525656 ]]\n"
     ]
    }
   ],
   "source": [
    "print(X_pca_ica_list[0])"
   ]
  },
  {
   "cell_type": "code",
   "execution_count": 85,
   "id": "d40a4097",
   "metadata": {},
   "outputs": [],
   "source": [
    "out_folder_path = r'ica_result'\n",
    "series_num = 1\n",
    "subj_num = 1\n",
    "\n",
    "for x_ica in X_pca_ica_list:\n",
    "    filename = f\"subj{subj_num}_series{series_num}_ica.csv\"  # 使用 f-string 格式化 filename\n",
    "    ica_df = pd.DataFrame(x_ica)\n",
    "    ica_df.to_csv(os.path.join(out_folder_path, filename))\n",
    "    series_num += 1\n",
    "    if(series_num==9):\n",
    "        series_num = 1\n",
    "        subj_num += 1"
   ]
  },
  {
   "cell_type": "code",
   "execution_count": null,
   "id": "678084ac",
   "metadata": {},
   "outputs": [],
   "source": []
  }
 ],
 "metadata": {
  "kernelspec": {
   "display_name": "Python 3 (ipykernel)",
   "language": "python",
   "name": "python3"
  },
  "language_info": {
   "codemirror_mode": {
    "name": "ipython",
    "version": 3
   },
   "file_extension": ".py",
   "mimetype": "text/x-python",
   "name": "python",
   "nbconvert_exporter": "python",
   "pygments_lexer": "ipython3",
   "version": "3.9.12"
  }
 },
 "nbformat": 4,
 "nbformat_minor": 5
}
